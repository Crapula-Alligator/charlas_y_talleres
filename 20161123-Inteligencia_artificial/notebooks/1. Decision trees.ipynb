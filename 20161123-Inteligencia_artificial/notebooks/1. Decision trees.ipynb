{
 "cells": [
  {
   "cell_type": "markdown",
   "metadata": {},
   "source": [
    "### Árboles de decisión\n",
    "\n",
    "Tenemos un CSV con distintos datos de hojas de árboles, con una estructura como esta\n",
    "\n",
    "    id,species,margin1,shape1,texture1\n",
    "    1,Acer_Opalus,0.007812,0.00064671,0.049805\n",
    "    2,Pterocarya_Stenoptera,0.005859,0.00074942,0\n",
    "    3,Quercus_Hartwissiana,0.005859,0.00097311,0.003906\n",
    "    5,Tilia_Tomentosa,0,0.00045312,0.023438\n",
    "    6,Quercus_Variabilis,0.005859,0.00068161,0.039062\n",
    "    8,Magnolia_Salicifolia,0.070312,0.00039032,0.026367\n",
    "    10,Quercus_Canariensis,0.021484,0.00092122,0.003906\n",
    "    11,Quercus_Rubra,0,0.00077608,0.018555\n"
   ]
  },
  {
   "cell_type": "code",
   "execution_count": 1,
   "metadata": {
    "collapsed": false
   },
   "outputs": [
    {
     "name": "stdout",
     "output_type": "stream",
     "text": [
      "OK\n"
     ]
    }
   ],
   "source": [
    "import csv\n",
    "\n",
    "def read_csv(fname):\n",
    "    '''Definimos una forma de leer el CSV, de ahí tendrémos que extraer dos listas.\n",
    "    \n",
    "    Los inputs, características que definien a cada hoja.\n",
    "    Los outputs, la clasificación que se le quiere dar.\n",
    "    '''\n",
    "    inputs = []\n",
    "    outputs = []\n",
    "\n",
    "    # Iteramos sobre todos las filas del archivo, la primera define los \"headers\"\n",
    "    # y del resto, la propiedad [1] es su especie (la clasificación que buscamos),\n",
    "    # los elementos a partir de ahí son sus caracterítisticas\n",
    "    with open(fname, newline='') as csvfile:\n",
    "        csvreader = csv.reader(csvfile)\n",
    "        headers = next(csvreader, None) # Skip the headers\n",
    "        features = headers[2:]\n",
    "        for row in csvreader:\n",
    "            outputs.append(row[1])\n",
    "            inputs.append(row[2:])\n",
    "\n",
    "    # Para ayudar más adelante a la visualización, convertiremos los outputs (un string con la especie)\n",
    "    # en un número (diferente para cada especie) y una lista que los relaciona con este número\n",
    "    outputs, labels = transform_labels(outputs)\n",
    "    return inputs, outputs, features, labels\n",
    "\n",
    "\n",
    "def transform_labels(outputs):\n",
    "    '''Método auxiliar, asignamos un número a cada etiqueta y construimos una lista con su correspondencia.'''\n",
    "\n",
    "    label_set = list(set(outputs)) # Construimos una lista sin especies repetidas\n",
    "    t_outputs = []\n",
    "    for out in outputs: # Por cada elemento\n",
    "        t_out = label_set.index(out) # Construimos una lista, donde su valor sea el índice que tiene\n",
    "        t_outputs.append(t_out)      # en la lista de especies no-repetidas\n",
    "\n",
    "    return t_outputs, label_set\n",
    "\n",
    "\n",
    "inputs, outputs, features, labels = read_csv('data/train.csv')\n",
    "\n",
    "from sklearn.model_selection import train_test_split\n",
    "X_train, X_test, y_train, y_test = train_test_split(inputs, outputs)\n",
    "\n",
    "print(\"OK\")"
   ]
  },
  {
   "cell_type": "markdown",
   "metadata": {},
   "source": [
    "Una vez tenemos los datos, habrá que construir un árbol que realize la clasificación. Para esto utilizaremos la librería scikit-learn."
   ]
  },
  {
   "cell_type": "code",
   "execution_count": null,
   "metadata": {
    "collapsed": false
   },
   "outputs": [],
   "source": [
    "import sklearn.tree # Importamos la librería\n",
    "tree = sklearn.tree.DecisionTreeClassifier() # Decidimos que tipo de algoritmo queremos utilizar\n",
    "\n",
    "# Y simplemente lo alimentamos con los datos que hemos extraído\n",
    "tree.fit(X_train, y_train)"
   ]
  },
  {
   "cell_type": "code",
   "execution_count": null,
   "metadata": {
    "collapsed": false
   },
   "outputs": [],
   "source": [
    "# Ya podemos visualizar el árbol que se ha generado\n",
    "sklearn.tree.export_graphviz(\n",
    "    tree, out_file='data/tree.dot',\n",
    "    feature_names=features,\n",
    "    class_names=labels,\n",
    "    label='none',\n",
    "    filled=True,\n",
    ")\n",
    "\n",
    "\n",
    "import subprocess\n",
    "# Hacemos una pequeña limpieza del grafico...\n",
    "subprocess.call(['sed', '-r', r's/\\[([0-9]|,| |\\\\n)+\\]//g',  '-i', 'data/tree.dot'])\n",
    "subprocess.call(['sed', '-r', r's/\\\\n([0-9.])+//g',  '-i', 'data/tree.dot'])\n",
    "subprocess.call(['sed', '-r', r's/(\\\\n)+/\\\\n/g',  '-i', 'data/tree.dot'])\n",
    "subprocess.call(['sed', '-r', r's/\"0.0\\\\n/\"/g',  '-i', 'data/tree.dot'])\n",
    "subprocess.call(['dot', '-Tpng', 'data/tree.dot', '-o' 'data/tree.png'])\n",
    "print(\"OK\")"
   ]
  },
  {
   "cell_type": "code",
   "execution_count": null,
   "metadata": {
    "collapsed": false
   },
   "outputs": [],
   "source": [
    "from IPython.core.display import Image\n",
    "Image('data/tree.png')"
   ]
  },
  {
   "cell_type": "code",
   "execution_count": null,
   "metadata": {
    "collapsed": false
   },
   "outputs": [],
   "source": [
    "# A partir de aquí podemos ya podemos probar los resultados del algoritmo\n",
    "tree.score(X_test, y_test)"
   ]
  }
 ],
 "metadata": {
  "kernelspec": {
   "display_name": "Python 3",
   "language": "python",
   "name": "python3"
  },
  "language_info": {
   "codemirror_mode": {
    "name": "ipython",
    "version": 3
   },
   "file_extension": ".py",
   "mimetype": "text/x-python",
   "name": "python",
   "nbconvert_exporter": "python",
   "pygments_lexer": "ipython3",
   "version": "3.5.1+"
  }
 },
 "nbformat": 4,
 "nbformat_minor": 1
}
