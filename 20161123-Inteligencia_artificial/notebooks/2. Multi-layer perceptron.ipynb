{
 "cells": [
  {
   "cell_type": "code",
   "execution_count": 1,
   "metadata": {
    "collapsed": false
   },
   "outputs": [
    {
     "name": "stdout",
     "output_type": "stream",
     "text": [
      "OK\n"
     ]
    }
   ],
   "source": [
    "import csv\n",
    "\n",
    "def read_csv(fname):\n",
    "    '''Definimos una forma de leer el CSV, de ahí tendrémos que extraer dos listas.\n",
    "    \n",
    "    Los inputs, características que definien a cada hoja.\n",
    "    Los outputs, la clasificación que se le quiere dar.\n",
    "    '''\n",
    "    inputs = []\n",
    "    outputs = []\n",
    "\n",
    "    # Iteramos sobre todos las filas del archivo, la primera define los \"headers\"\n",
    "    # y del resto, la propiedad [1] es su especie (la clasificación que buscamos),\n",
    "    # los elementos a partir de ahí son sus caracterítisticas\n",
    "    with open(fname, newline='') as csvfile:\n",
    "        csvreader = csv.reader(csvfile)\n",
    "        headers = next(csvreader, None) # Skip the headers\n",
    "        features = headers[2:]\n",
    "        for row in csvreader:\n",
    "            outputs.append(row[1])\n",
    "            inputs.append(row[2:])\n",
    "\n",
    "    # Para ayudar más adelante a la visualización, convertiremos los outputs (un string con la especie)\n",
    "    # en un número (diferente para cada especie) y una lista que los relaciona con este número\n",
    "    outputs, labels = transform_labels(outputs)\n",
    "    return inputs, outputs, features, labels\n",
    "\n",
    "\n",
    "def transform_labels(outputs):\n",
    "    '''Método auxiliar, asignamos un número a cada etiqueta y construimos una lista con su correspondencia.'''\n",
    "\n",
    "    label_set = list(set(outputs)) # Construimos una lista sin especies repetidas\n",
    "    t_outputs = []\n",
    "    for out in outputs: # Por cada elemento\n",
    "        t_out = [0] * len(label_set)\n",
    "        t_out[label_set.index(out)] = 1\n",
    "        t_outputs.append(t_out)\n",
    "        \n",
    "    return t_outputs, label_set\n",
    "\n",
    "\n",
    "inputs, outputs, features, labels = read_csv('data/train.csv')\n",
    "\n",
    "from sklearn.model_selection import train_test_split\n",
    "X_train, X_test, y_train, y_test = train_test_split(inputs, outputs)\n",
    "\n",
    "print(\"OK\")"
   ]
  },
  {
   "cell_type": "code",
   "execution_count": 2,
   "metadata": {
    "collapsed": false
   },
   "outputs": [
    {
     "name": "stderr",
     "output_type": "stream",
     "text": [
      "Using TensorFlow backend.\n"
     ]
    }
   ],
   "source": [
    "from keras.models import Sequential\n",
    "from keras.layers import Dense, Dropout, Activation\n",
    "\n",
    "model = Sequential()\n",
    "model.add(Dense(500, input_shape=(len(features),), activation='relu'))\n",
    "model.add(Dense(500))\n",
    "model.add(Dense(len(labels)))\n",
    "model.add(Activation('softmax'))\n",
    "\n",
    "model.compile(loss='categorical_crossentropy', optimizer='adagrad', metrics=['accuracy'])"
   ]
  },
  {
   "cell_type": "code",
   "execution_count": 4,
   "metadata": {
    "collapsed": false
   },
   "outputs": [
    {
     "name": "stdout",
     "output_type": "stream",
     "text": [
      "Epoch 1/10\n",
      "742/742 [==============================] - 0s - loss: 0.3489 - acc: 0.9474     \n",
      "Epoch 2/10\n",
      "742/742 [==============================] - 0s - loss: 0.3177 - acc: 0.9582     \n",
      "Epoch 3/10\n",
      "742/742 [==============================] - 0s - loss: 0.2733 - acc: 0.9663     \n",
      "Epoch 4/10\n",
      "742/742 [==============================] - 0s - loss: 0.2611 - acc: 0.9677     \n",
      "Epoch 5/10\n",
      "742/742 [==============================] - 0s - loss: 0.2208 - acc: 0.9838     \n",
      "Epoch 6/10\n",
      "742/742 [==============================] - 0s - loss: 0.2024 - acc: 0.9784     \n",
      "Epoch 7/10\n",
      "742/742 [==============================] - 0s - loss: 0.1875 - acc: 0.9906     \n",
      "Epoch 8/10\n",
      "742/742 [==============================] - 0s - loss: 0.1765 - acc: 0.9838     \n",
      "Epoch 9/10\n",
      "742/742 [==============================] - 0s - loss: 0.1578 - acc: 0.9906     \n",
      "Epoch 10/10\n",
      "742/742 [==============================] - 0s - loss: 0.1550 - acc: 0.9838     \n"
     ]
    },
    {
     "data": {
      "text/plain": [
       "<keras.callbacks.History at 0x7f3b9111a7b8>"
      ]
     },
     "execution_count": 4,
     "metadata": {},
     "output_type": "execute_result"
    }
   ],
   "source": [
    "import numpy as np\n",
    "\n",
    "model.fit(np.array(X_train), np.array(y_train))"
   ]
  },
  {
   "cell_type": "code",
   "execution_count": 5,
   "metadata": {
    "collapsed": false
   },
   "outputs": [
    {
     "name": "stdout",
     "output_type": "stream",
     "text": [
      "248/248 [==============================] - 0s     \n"
     ]
    },
    {
     "data": {
      "text/plain": [
       "[0.41964156589200419, 0.89112903418079503]"
      ]
     },
     "execution_count": 5,
     "metadata": {},
     "output_type": "execute_result"
    }
   ],
   "source": [
    "# A partir de aquí podemos ya podemos probar los resultados del algoritmo\n",
    "test_inputs, test_outputs, _, _ = read_csv('data/test.csv')\n",
    "model.evaluate(np.array(X_test), np.array(y_test))"
   ]
  }
 ],
 "metadata": {
  "kernelspec": {
   "display_name": "Python 3",
   "language": "python",
   "name": "python3"
  },
  "language_info": {
   "codemirror_mode": {
    "name": "ipython",
    "version": 3
   },
   "file_extension": ".py",
   "mimetype": "text/x-python",
   "name": "python",
   "nbconvert_exporter": "python",
   "pygments_lexer": "ipython3",
   "version": "3.5.1+"
  }
 },
 "nbformat": 4,
 "nbformat_minor": 1
}
